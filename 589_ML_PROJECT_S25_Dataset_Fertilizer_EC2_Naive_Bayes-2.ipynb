{
  "nbformat": 4,
  "nbformat_minor": 0,
  "metadata": {
    "colab": {
      "provenance": []
    },
    "kernelspec": {
      "name": "python3",
      "display_name": "Python 3"
    },
    "language_info": {
      "name": "python"
    }
  },
  "cells": [
    {
      "cell_type": "code",
      "execution_count": 1,
      "metadata": {
        "id": "aokkgaHW9nTB"
      },
      "outputs": [],
      "source": [
        "import numpy as np\n",
        "import matplotlib.pyplot as plt"
      ]
    },
    {
      "cell_type": "code",
      "source": [
        "from google.colab import files\n",
        "uploaded = files.upload()"
      ],
      "metadata": {
        "colab": {
          "base_uri": "https://localhost:8080/",
          "height": 72
        },
        "id": "9SLpCMn79wVr",
        "outputId": "43952535-a650-4915-994f-2e6eb0333a5c"
      },
      "execution_count": 2,
      "outputs": [
        {
          "output_type": "display_data",
          "data": {
            "text/plain": [
              "<IPython.core.display.HTML object>"
            ],
            "text/html": [
              "\n",
              "     <input type=\"file\" id=\"files-60e0e637-3fe1-44f4-a849-061260ecc9cc\" name=\"files[]\" multiple disabled\n",
              "        style=\"border:none\" />\n",
              "     <output id=\"result-60e0e637-3fe1-44f4-a849-061260ecc9cc\">\n",
              "      Upload widget is only available when the cell has been executed in the\n",
              "      current browser session. Please rerun this cell to enable.\n",
              "      </output>\n",
              "      <script>// Copyright 2017 Google LLC\n",
              "//\n",
              "// Licensed under the Apache License, Version 2.0 (the \"License\");\n",
              "// you may not use this file except in compliance with the License.\n",
              "// You may obtain a copy of the License at\n",
              "//\n",
              "//      http://www.apache.org/licenses/LICENSE-2.0\n",
              "//\n",
              "// Unless required by applicable law or agreed to in writing, software\n",
              "// distributed under the License is distributed on an \"AS IS\" BASIS,\n",
              "// WITHOUT WARRANTIES OR CONDITIONS OF ANY KIND, either express or implied.\n",
              "// See the License for the specific language governing permissions and\n",
              "// limitations under the License.\n",
              "\n",
              "/**\n",
              " * @fileoverview Helpers for google.colab Python module.\n",
              " */\n",
              "(function(scope) {\n",
              "function span(text, styleAttributes = {}) {\n",
              "  const element = document.createElement('span');\n",
              "  element.textContent = text;\n",
              "  for (const key of Object.keys(styleAttributes)) {\n",
              "    element.style[key] = styleAttributes[key];\n",
              "  }\n",
              "  return element;\n",
              "}\n",
              "\n",
              "// Max number of bytes which will be uploaded at a time.\n",
              "const MAX_PAYLOAD_SIZE = 100 * 1024;\n",
              "\n",
              "function _uploadFiles(inputId, outputId) {\n",
              "  const steps = uploadFilesStep(inputId, outputId);\n",
              "  const outputElement = document.getElementById(outputId);\n",
              "  // Cache steps on the outputElement to make it available for the next call\n",
              "  // to uploadFilesContinue from Python.\n",
              "  outputElement.steps = steps;\n",
              "\n",
              "  return _uploadFilesContinue(outputId);\n",
              "}\n",
              "\n",
              "// This is roughly an async generator (not supported in the browser yet),\n",
              "// where there are multiple asynchronous steps and the Python side is going\n",
              "// to poll for completion of each step.\n",
              "// This uses a Promise to block the python side on completion of each step,\n",
              "// then passes the result of the previous step as the input to the next step.\n",
              "function _uploadFilesContinue(outputId) {\n",
              "  const outputElement = document.getElementById(outputId);\n",
              "  const steps = outputElement.steps;\n",
              "\n",
              "  const next = steps.next(outputElement.lastPromiseValue);\n",
              "  return Promise.resolve(next.value.promise).then((value) => {\n",
              "    // Cache the last promise value to make it available to the next\n",
              "    // step of the generator.\n",
              "    outputElement.lastPromiseValue = value;\n",
              "    return next.value.response;\n",
              "  });\n",
              "}\n",
              "\n",
              "/**\n",
              " * Generator function which is called between each async step of the upload\n",
              " * process.\n",
              " * @param {string} inputId Element ID of the input file picker element.\n",
              " * @param {string} outputId Element ID of the output display.\n",
              " * @return {!Iterable<!Object>} Iterable of next steps.\n",
              " */\n",
              "function* uploadFilesStep(inputId, outputId) {\n",
              "  const inputElement = document.getElementById(inputId);\n",
              "  inputElement.disabled = false;\n",
              "\n",
              "  const outputElement = document.getElementById(outputId);\n",
              "  outputElement.innerHTML = '';\n",
              "\n",
              "  const pickedPromise = new Promise((resolve) => {\n",
              "    inputElement.addEventListener('change', (e) => {\n",
              "      resolve(e.target.files);\n",
              "    });\n",
              "  });\n",
              "\n",
              "  const cancel = document.createElement('button');\n",
              "  inputElement.parentElement.appendChild(cancel);\n",
              "  cancel.textContent = 'Cancel upload';\n",
              "  const cancelPromise = new Promise((resolve) => {\n",
              "    cancel.onclick = () => {\n",
              "      resolve(null);\n",
              "    };\n",
              "  });\n",
              "\n",
              "  // Wait for the user to pick the files.\n",
              "  const files = yield {\n",
              "    promise: Promise.race([pickedPromise, cancelPromise]),\n",
              "    response: {\n",
              "      action: 'starting',\n",
              "    }\n",
              "  };\n",
              "\n",
              "  cancel.remove();\n",
              "\n",
              "  // Disable the input element since further picks are not allowed.\n",
              "  inputElement.disabled = true;\n",
              "\n",
              "  if (!files) {\n",
              "    return {\n",
              "      response: {\n",
              "        action: 'complete',\n",
              "      }\n",
              "    };\n",
              "  }\n",
              "\n",
              "  for (const file of files) {\n",
              "    const li = document.createElement('li');\n",
              "    li.append(span(file.name, {fontWeight: 'bold'}));\n",
              "    li.append(span(\n",
              "        `(${file.type || 'n/a'}) - ${file.size} bytes, ` +\n",
              "        `last modified: ${\n",
              "            file.lastModifiedDate ? file.lastModifiedDate.toLocaleDateString() :\n",
              "                                    'n/a'} - `));\n",
              "    const percent = span('0% done');\n",
              "    li.appendChild(percent);\n",
              "\n",
              "    outputElement.appendChild(li);\n",
              "\n",
              "    const fileDataPromise = new Promise((resolve) => {\n",
              "      const reader = new FileReader();\n",
              "      reader.onload = (e) => {\n",
              "        resolve(e.target.result);\n",
              "      };\n",
              "      reader.readAsArrayBuffer(file);\n",
              "    });\n",
              "    // Wait for the data to be ready.\n",
              "    let fileData = yield {\n",
              "      promise: fileDataPromise,\n",
              "      response: {\n",
              "        action: 'continue',\n",
              "      }\n",
              "    };\n",
              "\n",
              "    // Use a chunked sending to avoid message size limits. See b/62115660.\n",
              "    let position = 0;\n",
              "    do {\n",
              "      const length = Math.min(fileData.byteLength - position, MAX_PAYLOAD_SIZE);\n",
              "      const chunk = new Uint8Array(fileData, position, length);\n",
              "      position += length;\n",
              "\n",
              "      const base64 = btoa(String.fromCharCode.apply(null, chunk));\n",
              "      yield {\n",
              "        response: {\n",
              "          action: 'append',\n",
              "          file: file.name,\n",
              "          data: base64,\n",
              "        },\n",
              "      };\n",
              "\n",
              "      let percentDone = fileData.byteLength === 0 ?\n",
              "          100 :\n",
              "          Math.round((position / fileData.byteLength) * 100);\n",
              "      percent.textContent = `${percentDone}% done`;\n",
              "\n",
              "    } while (position < fileData.byteLength);\n",
              "  }\n",
              "\n",
              "  // All done.\n",
              "  yield {\n",
              "    response: {\n",
              "      action: 'complete',\n",
              "    }\n",
              "  };\n",
              "}\n",
              "\n",
              "scope.google = scope.google || {};\n",
              "scope.google.colab = scope.google.colab || {};\n",
              "scope.google.colab._files = {\n",
              "  _uploadFiles,\n",
              "  _uploadFilesContinue,\n",
              "};\n",
              "})(self);\n",
              "</script> "
            ]
          },
          "metadata": {}
        },
        {
          "output_type": "stream",
          "name": "stdout",
          "text": [
            "Saving fertilizer_recommendation_dataset.csv to fertilizer_recommendation_dataset.csv\n"
          ]
        }
      ]
    },
    {
      "cell_type": "code",
      "source": [
        "import pandas as pd\n",
        "df_fertilizer = pd.read_csv('fertilizer_recommendation_dataset.csv')\n",
        "print(df_fertilizer.head())"
      ],
      "metadata": {
        "colab": {
          "base_uri": "https://localhost:8080/"
        },
        "id": "khpQ72f59wY4",
        "outputId": "bea59d38-f1b2-4461-d390-1a1d8d151457"
      },
      "execution_count": 3,
      "outputs": [
        {
          "output_type": "stream",
          "name": "stdout",
          "text": [
            "   Temperature  Moisture    Rainfall        PH   Nitrogen  Phosphorous  \\\n",
            "0    50.179845  0.725893  205.600816  6.227358  66.701872    76.963560   \n",
            "1    21.633318  0.721958  306.081601  7.173131  71.583316   163.057636   \n",
            "2    23.060964  0.685751  259.336414  7.380793  75.709830    62.091508   \n",
            "3    26.241975  0.755095  212.703513  6.883367  78.033687   151.012521   \n",
            "4    21.490157  0.730672  268.786767  7.578760  71.765123    66.257371   \n",
            "\n",
            "    Potassium    Carbon        Soil  Crop                  Fertilizer  \\\n",
            "0   96.429065  0.496300  Loamy Soil  rice                     Compost   \n",
            "1  148.128347  1.234242  Loamy Soil  rice     Balanced NPK Fertilizer   \n",
            "2   80.308971  1.795650  Peaty Soil  rice  Water Retaining Fertilizer   \n",
            "3  153.005712  1.517556  Loamy Soil  rice     Balanced NPK Fertilizer   \n",
            "4   97.000886  1.782985  Peaty Soil  rice          Organic Fertilizer   \n",
            "\n",
            "                                              Remark  \n",
            "0  Enhances organic matter and improves soil stru...  \n",
            "1  Provides a balanced mix of nitrogen, phosphoru...  \n",
            "2  Improves water retention in dry soils. Prefer ...  \n",
            "3  Provides a balanced mix of nitrogen, phosphoru...  \n",
            "4  Enhances fertility naturally, ideal for peaty ...  \n"
          ]
        }
      ]
    },
    {
      "cell_type": "code",
      "source": [
        "f = df_fertilizer.drop('Fertilizer', axis=1)\n",
        "\n",
        "t = df_fertilizer['Fertilizer']"
      ],
      "metadata": {
        "id": "WOZEdCLr9wbG"
      },
      "execution_count": 4,
      "outputs": []
    },
    {
      "cell_type": "code",
      "source": [
        "labels = df_fertilizer['Fertilizer'].unique()\n",
        "print(labels)"
      ],
      "metadata": {
        "colab": {
          "base_uri": "https://localhost:8080/"
        },
        "id": "BETiA6qR9wdR",
        "outputId": "38aa0dbf-9043-4592-d14b-b9546a517365"
      },
      "execution_count": 5,
      "outputs": [
        {
          "output_type": "stream",
          "name": "stdout",
          "text": [
            "['Compost' 'Balanced NPK Fertilizer' 'Water Retaining Fertilizer'\n",
            " 'Organic Fertilizer' 'Gypsum' 'Lime' 'DAP' 'Urea' 'Muriate of Potash'\n",
            " 'General Purpose Fertilizer']\n"
          ]
        }
      ]
    },
    {
      "cell_type": "code",
      "source": [
        "categorical_cols = [col for col in f.columns if f[col].dtype == 'object']\n",
        "print(categorical_cols)"
      ],
      "metadata": {
        "colab": {
          "base_uri": "https://localhost:8080/"
        },
        "id": "gBtL6GgK9wfP",
        "outputId": "29d5e3a3-746a-49b6-802f-c9b47c853882"
      },
      "execution_count": 6,
      "outputs": [
        {
          "output_type": "stream",
          "name": "stdout",
          "text": [
            "['Soil', 'Crop', 'Remark']\n"
          ]
        }
      ]
    },
    {
      "cell_type": "code",
      "source": [
        "categorical_cols = [col for col in f.columns if f[col].dtype == 'object']\n",
        "for col in categorical_cols:\n",
        "    mapping = {val: idx for idx, val in enumerate(f[col].unique())}\n",
        "    f[col] = f[col].map(mapping)\n",
        "\n",
        "f = f.apply(pd.to_numeric, errors='raise')\n",
        "f = f.to_numpy()"
      ],
      "metadata": {
        "id": "pz57f15V99OU"
      },
      "execution_count": 7,
      "outputs": []
    },
    {
      "cell_type": "code",
      "source": [
        "unique_labels = sorted(df_fertilizer['Fertilizer'].unique())\n",
        "label_mapping = {label: idx for idx, label in enumerate(unique_labels)}\n",
        "t = df_fertilizer['Fertilizer'].map(label_mapping).to_numpy()"
      ],
      "metadata": {
        "id": "9KpnU03NkzUR"
      },
      "execution_count": 8,
      "outputs": []
    },
    {
      "cell_type": "code",
      "source": [
        "def mskf(f, t, k=10, seed=42):\n",
        "    np.random.seed(seed)\n",
        "    folds = [[] for _ in range(k)]\n",
        "    unique_classes = np.unique(t)\n",
        "    class_indices = {label: np.where(t == label)[0] for label in unique_classes}\n",
        "    for label in unique_classes:\n",
        "        np.random.shuffle(class_indices[label])\n",
        "        split_indices = np.array_split(class_indices[label], k)\n",
        "        for fold_idx, split in enumerate(split_indices):\n",
        "            folds[fold_idx].extend(split)\n",
        "    return [np.array(fold) for fold in folds]"
      ],
      "metadata": {
        "id": "ddVZUWG5-PQ2"
      },
      "execution_count": 9,
      "outputs": []
    },
    {
      "cell_type": "code",
      "source": [
        "class NB_HW2:\n",
        "    def __init__(self, alpha):\n",
        "        self.alpha = alpha\n",
        "\n",
        "    def fitting(self, X, y):\n",
        "        self.classes = np.unique(y)\n",
        "        self.mean = {}\n",
        "        self.var = {}\n",
        "        self.priors = {}\n",
        "\n",
        "        for c in self.classes:\n",
        "            X_c = X[y == c]\n",
        "            self.mean[c] = np.mean(X_c, axis=0)\n",
        "            self.var[c] = np.var(X_c, axis=0) + self.alpha\n",
        "            self.priors[c] = X_c.shape[0] / X.shape[0]\n",
        "\n",
        "    def predict(self, X):\n",
        "        return np.array([self.prediting(x) for x in X])\n",
        "\n",
        "    def prediting(self, x):\n",
        "        log_probs = []\n",
        "        for c in self.classes:\n",
        "            prior = np.log(self.priors[c])\n",
        "            cond = np.sum(\n",
        "                -0.5 * np.log(2 * np.pi * self.var[c])\n",
        "                - ((x - self.mean[c]) ** 2) / (2 * self.var[c])\n",
        "            )\n",
        "            log_probs.append(prior + cond)\n",
        "        return self.classes[np.argmax(log_probs)]\n",
        "\n",
        "def compute_metrics(t_true, t_pred):\n",
        "    labels = np.unique(t_true)\n",
        "    precisions, recalls, f1_scores = [], [], []\n",
        "\n",
        "    for label in labels:\n",
        "        TP = np.sum((t_true == label) & (t_pred == label))\n",
        "        FP = np.sum((t_true != label) & (t_pred == label))\n",
        "        FN = np.sum((t_true == label) & (t_pred != label))\n",
        "\n",
        "        precision = TP / (TP + FP) if (TP + FP) else 0\n",
        "        recall = TP / (TP + FN) if (TP + FN) else 0\n",
        "        f1 = 2 * precision * recall / (precision + recall) if (precision + recall) else 0\n",
        "\n",
        "        precisions.append(precision)\n",
        "        recalls.append(recall)\n",
        "        f1_scores.append(f1)\n",
        "\n",
        "    accuracy = np.mean(t_true == t_pred)\n",
        "    return accuracy, np.mean(precisions), np.mean(recalls), np.mean(f1_scores)"
      ],
      "metadata": {
        "id": "hBtKzKFW-PTS"
      },
      "execution_count": 11,
      "outputs": []
    },
    {
      "cell_type": "code",
      "source": [
        "alpha_values = [1e-9, 1e-6, 1e-3, 0.0001, 0.001, 0.01, 0.1, 1, 10, 100, 1000]\n",
        "alpha_accuracies = []\n",
        "alpha_f1_scores = []\n",
        "\n",
        "folds = mskf(f, t, k=10)\n",
        "\n",
        "for alpha in alpha_values:\n",
        "    accuracies = []\n",
        "    f1_scores = []\n",
        "\n",
        "    for i in range(10):\n",
        "        test_idx = folds[i]\n",
        "        train_idx = np.hstack([folds[j] for j in range(10) if j != i])\n",
        "\n",
        "        f_train, f_test = f[train_idx], f[test_idx]\n",
        "        t_train, t_test = t[train_idx], t[test_idx]\n",
        "\n",
        "        nb = NB_HW2(alpha=alpha)\n",
        "        nb.fitting(f_train, t_train)\n",
        "        t_pred = nb.predict(f_test)\n",
        "\n",
        "        acc, _, _, f1 = compute_metrics(t_test, t_pred)\n",
        "        accuracies.append(acc)\n",
        "        f1_scores.append(f1)\n",
        "\n",
        "    avg_acc = np.mean(accuracies)\n",
        "    avg_f1 = np.mean(f1_scores)\n",
        "\n",
        "    alpha_accuracies.append(avg_acc)\n",
        "    alpha_f1_scores.append(avg_f1)\n",
        "\n",
        "    print(f\"Alpha = {alpha}, Accuracy = {avg_acc:.4f}, F1 Score = {avg_f1:.4f}\")"
      ],
      "metadata": {
        "colab": {
          "base_uri": "https://localhost:8080/"
        },
        "id": "_PNPXzZSkcju",
        "outputId": "6a9f7f15-c9c0-4a62-b1b1-1a834250d483"
      },
      "execution_count": 12,
      "outputs": [
        {
          "output_type": "stream",
          "name": "stdout",
          "text": [
            "Alpha = 1e-09, Accuracy = 1.0000, F1 Score = 1.0000\n",
            "Alpha = 1e-06, Accuracy = 1.0000, F1 Score = 1.0000\n",
            "Alpha = 0.001, Accuracy = 1.0000, F1 Score = 1.0000\n",
            "Alpha = 0.0001, Accuracy = 1.0000, F1 Score = 1.0000\n",
            "Alpha = 0.001, Accuracy = 1.0000, F1 Score = 1.0000\n",
            "Alpha = 0.01, Accuracy = 1.0000, F1 Score = 1.0000\n",
            "Alpha = 0.1, Accuracy = 0.9968, F1 Score = 0.9933\n",
            "Alpha = 1, Accuracy = 0.8461, F1 Score = 0.7337\n",
            "Alpha = 10, Accuracy = 0.5856, F1 Score = 0.3198\n",
            "Alpha = 100, Accuracy = 0.5024, F1 Score = 0.2026\n",
            "Alpha = 1000, Accuracy = 0.4659, F1 Score = 0.1420\n"
          ]
        }
      ]
    },
    {
      "cell_type": "code",
      "source": [
        "plt.figure(figsize=(8, 5))\n",
        "plt.plot([np.log10(a) for a in alpha_values], alpha_accuracies, marker='o', color='blue')\n",
        "plt.xlabel('log10(Alpha)')\n",
        "plt.ylabel('Accuracy')\n",
        "plt.title('Accuracy vs. Alpha (Fertilizer Dataset)')\n",
        "plt.xticks([np.log10(a) for a in alpha_values], labels=[str(a) for a in alpha_values])\n",
        "plt.grid(True)\n",
        "plt.show()"
      ],
      "metadata": {
        "colab": {
          "base_uri": "https://localhost:8080/",
          "height": 486
        },
        "id": "W73EJKuzkcmD",
        "outputId": "936b613a-b261-4720-cbc6-8dd54a1cee7d"
      },
      "execution_count": 13,
      "outputs": [
        {
          "output_type": "display_data",
          "data": {
            "text/plain": [
              "<Figure size 800x500 with 1 Axes>"
            ],
            "image/png": "[encoded data removed]"
          },
          "metadata": {}
        }
      ]
    },
    {
      "cell_type": "code",
      "source": [
        "plt.figure(figsize=(8, 5))\n",
        "plt.plot([np.log10(a) for a in alpha_values], alpha_f1_scores, marker='s', color='green')\n",
        "plt.xlabel('log10(Alpha)')\n",
        "plt.ylabel('F1 Score')\n",
        "plt.title('F1 Score vs. Alpha (Fertilizer Dataset)')\n",
        "plt.xticks([np.log10(a) for a in alpha_values], labels=[str(a) for a in alpha_values])\n",
        "plt.grid(True)\n",
        "plt.show()"
      ],
      "metadata": {
        "colab": {
          "base_uri": "https://localhost:8080/",
          "height": 486
        },
        "id": "hcWEGzZEkcoy",
        "outputId": "ed3dcb5a-9b75-4ff0-a393-c823e9e9db6b"
      },
      "execution_count": 14,
      "outputs": [
        {
          "output_type": "display_data",
          "data": {
            "text/plain": [
              "<Figure size 800x500 with 1 Axes>"
            ],
            "image/png": "[encoded data removed]"
          },
          "metadata": {}
        }
      ]
    }
  ]
}